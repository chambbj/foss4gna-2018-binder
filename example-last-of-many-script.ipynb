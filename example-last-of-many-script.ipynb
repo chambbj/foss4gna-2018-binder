{
 "cells": [
  {
   "cell_type": "code",
   "execution_count": 1,
   "metadata": {},
   "outputs": [
    {
     "name": "stdout",
     "output_type": "stream",
     "text": [
      "{\r\n",
      "    \"pipeline\":[\r\n",
      "        {\r\n",
      "            \"type\": \"filters.python\",\r\n",
      "            \"function\": \"filter\",\r\n",
      "            \"script\": \"last-of-many.py\"\r\n",
      "        }\r\n",
      "    ]\r\n",
      "}"
     ]
    }
   ],
   "source": [
    "!cat example-last-of-many-script.json"
   ]
  },
  {
   "cell_type": "code",
   "execution_count": 2,
   "metadata": {},
   "outputs": [
    {
     "name": "stdout",
     "output_type": "stream",
     "text": [
      "import numpy as np\r\n",
      "\r\n",
      "def filter(ins,outs):\r\n",
      "    rn = ins['ReturnNumber']\r\n",
      "    nr = ins['NumberOfReturns']\r\n",
      "\r\n",
      "    rets = np.logical_and(np.equal(rn, nr),\r\n",
      "        np.greater(nr, 1))\r\n",
      "\r\n",
      "    outs['Mask'] = rets\r\n",
      "    return True"
     ]
    }
   ],
   "source": [
    "!cat last-of-many.py"
   ]
  },
  {
   "cell_type": "code",
   "execution_count": 3,
   "metadata": {},
   "outputs": [
    {
     "name": "stdout",
     "output_type": "stream",
     "text": [
      "(PDAL Debug) Debugging...\n",
      "(pdal translate Debug) Attempting to load plugin '/Users/chambbj/miniconda3/envs/pdal36/lib/libpdal_plugin_filter_python.dylib'.\n",
      "(pdal translate Debug) Loaded plugin '/Users/chambbj/miniconda3/envs/pdal36/lib/libpdal_plugin_filter_python.dylib'.\n",
      "(pdal translate Debug) Initialized plugin '/Users/chambbj/miniconda3/envs/pdal36/lib/libpdal_plugin_filter_python.dylib'.\n",
      "(pdal translate readers.las Debug) Executing pipeline in standard mode.\n",
      "(pdal translate writers.las Debug) Wrote 166422 points to the LAS file\n",
      "(pdal translate Debug) GDAL debug: GDAL: In GDALDestroy - unloading GDAL shared library.\n"
     ]
    }
   ],
   "source": [
    "!pdal translate --json example-last-of-many-script.json arch.las arch-last-of-many.laz --verbose 5"
   ]
  }
 ],
 "metadata": {
  "kernelspec": {
   "display_name": "Python 3",
   "language": "python",
   "name": "python3"
  },
  "language_info": {
   "codemirror_mode": {
    "name": "ipython",
    "version": 3
   },
   "file_extension": ".py",
   "mimetype": "text/x-python",
   "name": "python",
   "nbconvert_exporter": "python",
   "pygments_lexer": "ipython3",
   "version": "3.6.5"
  }
 },
 "nbformat": 4,
 "nbformat_minor": 2
}
