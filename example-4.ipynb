{
 "cells": [
  {
   "cell_type": "code",
   "execution_count": 1,
   "metadata": {},
   "outputs": [
    {
     "name": "stdout",
     "output_type": "stream",
     "text": [
      "(PDAL Debug) Debugging...\n",
      "(pdal translate Debug) Executing pipeline in stream mode.\n",
      "(pdal translate writers.las Debug) Wrote 863036 points to the LAS file\n",
      "(pdal translate Debug) GDAL debug: GDAL: In GDALDestroy - unloading GDAL shared library.\n"
     ]
    }
   ],
   "source": [
    "!pdal translate arch.las arch-compressed.laz range \\\n",
    "    --filters.range.limits=\"NumberOfReturns[1:1]\" --verbose 5"
   ]
  }
 ],
 "metadata": {
  "kernelspec": {
   "display_name": "Python 3",
   "language": "python",
   "name": "python3"
  },
  "language_info": {
   "codemirror_mode": {
    "name": "ipython",
    "version": 3
   },
   "file_extension": ".py",
   "mimetype": "text/x-python",
   "name": "python",
   "nbconvert_exporter": "python",
   "pygments_lexer": "ipython3",
   "version": "3.6.5"
  }
 },
 "nbformat": 4,
 "nbformat_minor": 2
}
