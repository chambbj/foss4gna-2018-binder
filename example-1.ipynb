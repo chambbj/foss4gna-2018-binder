{
 "cells": [
  {
   "cell_type": "code",
   "execution_count": 1,
   "metadata": {},
   "outputs": [
    {
     "name": "stdout",
     "output_type": "stream",
     "text": [
      "{\r\n",
      "    \"pipeline\": [\r\n",
      "        \"arch.las\",\r\n",
      "        \"arch-compressed.laz\"\r\n",
      "    ]\r\n",
      "}"
     ]
    }
   ],
   "source": [
    "!cat example-1.json"
   ]
  },
  {
   "cell_type": "code",
   "execution_count": 2,
   "metadata": {},
   "outputs": [
    {
     "name": "stdout",
     "output_type": "stream",
     "text": [
      "(PDAL Debug) Debugging...\n",
      "(pdal pipeline Debug) Executing pipeline in stream mode.\n",
      "(pdal pipeline writers.las Debug) Wrote 1217734 points to the LAS file\n",
      "(pdal pipeline Debug) GDAL debug: GDAL: In GDALDestroy - unloading GDAL shared library.\n"
     ]
    }
   ],
   "source": [
    "!pdal pipeline example-1.json --verbose 5"
   ]
  }
 ],
 "metadata": {
  "kernelspec": {
   "display_name": "Python 3",
   "language": "python",
   "name": "python3"
  },
  "language_info": {
   "codemirror_mode": {
    "name": "ipython",
    "version": 3
   },
   "file_extension": ".py",
   "mimetype": "text/x-python",
   "name": "python",
   "nbconvert_exporter": "python",
   "pygments_lexer": "ipython3",
   "version": "3.6.5"
  }
 },
 "nbformat": 4,
 "nbformat_minor": 2
}
