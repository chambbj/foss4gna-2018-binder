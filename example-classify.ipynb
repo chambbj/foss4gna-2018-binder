{
 "cells": [
  {
   "cell_type": "code",
   "execution_count": 1,
   "metadata": {},
   "outputs": [
    {
     "name": "stdout",
     "output_type": "stream",
     "text": [
      "{\r\n",
      "    \"pipeline\": [\r\n",
      "        {\r\n",
      "            \"type\": \"filters.assign\",\r\n",
      "            \"assignment\": \"Classification[:]=0\"\r\n",
      "        },\r\n",
      "        {\r\n",
      "            \"type\": \"filters.elm\"\r\n",
      "        },\r\n",
      "        {\r\n",
      "            \"type\": \"filters.outlier\"\r\n",
      "        },\r\n",
      "        {\r\n",
      "            \"type\": \"filters.smrf\",\r\n",
      "            \"ignore\": \"Classification[7:7]\"\r\n",
      "        }\r\n",
      "    ]\r\n",
      "}"
     ]
    }
   ],
   "source": [
    "!cat example-classify.json"
   ]
  },
  {
   "cell_type": "code",
   "execution_count": 2,
   "metadata": {},
   "outputs": [
    {
     "name": "stdout",
     "output_type": "stream",
     "text": [
      "(PDAL Debug) Debugging...\n",
      "(pdal translate readers.las Debug) Executing pipeline in standard mode.\n",
      "(pdal translate filters.elm Info) Classified 6 points as noise by Extended Local Minimum (ELM).\n",
      "(pdal translate filters.outlier Debug) \t\tLabeled 55144 outliers as noise!\n",
      "(pdal translate filters.smrf Debug) progressiveFilter: radius = 1\t143069 ground\t137 non-ground\t(0.10%)\n",
      "(pdal translate filters.smrf Debug) progressiveFilter: radius = 1\t140654 ground\t2552 non-ground\t(1.78%)\n",
      "(pdal translate filters.smrf Debug) progressiveFilter: radius = 2\t139869 ground\t3337 non-ground\t(2.33%)\n",
      "(pdal translate filters.smrf Debug) progressiveFilter: radius = 3\t139430 ground\t3776 non-ground\t(2.64%)\n",
      "(pdal translate filters.smrf Debug) progressiveFilter: radius = 4\t139147 ground\t4059 non-ground\t(2.83%)\n",
      "(pdal translate filters.smrf Debug) progressiveFilter: radius = 5\t138741 ground\t4465 non-ground\t(3.12%)\n",
      "(pdal translate filters.smrf Debug) progressiveFilter: radius = 6\t138583 ground\t4623 non-ground\t(3.23%)\n",
      "(pdal translate filters.smrf Debug) progressiveFilter: radius = 7\t138352 ground\t4854 non-ground\t(3.39%)\n",
      "(pdal translate filters.smrf Debug) progressiveFilter: radius = 8\t138070 ground\t5136 non-ground\t(3.59%)\n",
      "(pdal translate filters.smrf Debug) progressiveFilter: radius = 9\t137930 ground\t5276 non-ground\t(3.68%)\n",
      "(pdal translate filters.smrf Debug) progressiveFilter: radius = 10\t137822 ground\t5384 non-ground\t(3.76%)\n",
      "(pdal translate filters.smrf Debug) progressiveFilter: radius = 11\t137799 ground\t5407 non-ground\t(3.78%)\n",
      "(pdal translate filters.smrf Debug) progressiveFilter: radius = 12\t137787 ground\t5419 non-ground\t(3.78%)\n",
      "(pdal translate filters.smrf Debug) progressiveFilter: radius = 13\t137763 ground\t5443 non-ground\t(3.80%)\n",
      "(pdal translate filters.smrf Debug) progressiveFilter: radius = 14\t137722 ground\t5484 non-ground\t(3.83%)\n",
      "(pdal translate filters.smrf Debug) progressiveFilter: radius = 15\t137707 ground\t5499 non-ground\t(3.84%)\n",
      "(pdal translate filters.smrf Debug) progressiveFilter: radius = 16\t137660 ground\t5546 non-ground\t(3.87%)\n",
      "(pdal translate filters.smrf Debug) progressiveFilter: radius = 17\t137626 ground\t5580 non-ground\t(3.90%)\n",
      "(pdal translate filters.smrf Debug) progressiveFilter: radius = 18\t137626 ground\t5580 non-ground\t(3.90%)\n",
      "(pdal translate writers.las Debug) Wrote 1217734 points to the LAS file\n",
      "(pdal translate Debug) GDAL debug: GDAL: In GDALDestroy - unloading GDAL shared library.\n"
     ]
    }
   ],
   "source": [
    "!pdal translate --json example-classify.json arch.las arch-classified.laz --verbose 5"
   ]
  }
 ],
 "metadata": {
  "kernelspec": {
   "display_name": "Python 3",
   "language": "python",
   "name": "python3"
  },
  "language_info": {
   "codemirror_mode": {
    "name": "ipython",
    "version": 3
   },
   "file_extension": ".py",
   "mimetype": "text/x-python",
   "name": "python",
   "nbconvert_exporter": "python",
   "pygments_lexer": "ipython3",
   "version": "3.6.5"
  }
 },
 "nbformat": 4,
 "nbformat_minor": 2
}
