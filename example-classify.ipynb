{
 "cells": [
  {
   "cell_type": "code",
   "execution_count": 1,
   "metadata": {},
   "outputs": [
    {
     "name": "stdout",
     "output_type": "stream",
     "text": [
      "{\r\n",
      "    \"pipeline\": [\r\n",
      "        {\r\n",
      "            \"type\": \"filters.assign\",\r\n",
      "            \"assignment\": \"Classification[:]=0\"\r\n",
      "        },\r\n",
      "        {\r\n",
      "            \"type\": \"filters.smrf\"\r\n",
      "        }\r\n",
      "    ]\r\n",
      "}"
     ]
    }
   ],
   "source": [
    "!cat example-classify.json"
   ]
  },
  {
   "cell_type": "code",
   "execution_count": 2,
   "metadata": {},
   "outputs": [
    {
     "name": "stdout",
     "output_type": "stream",
     "text": [
      "(PDAL Debug) Debugging...\n",
      "(pdal translate readers.las Debug) Executing pipeline in standard mode.\n",
      "(pdal translate filters.smrf Debug) progressiveFilter: radius = 1\t142984 ground\t222 non-ground\t(0.16%)\n",
      "(pdal translate filters.smrf Debug) progressiveFilter: radius = 1\t140753 ground\t2453 non-ground\t(1.71%)\n",
      "(pdal translate filters.smrf Debug) progressiveFilter: radius = 2\t140143 ground\t3063 non-ground\t(2.14%)\n",
      "(pdal translate filters.smrf Debug) progressiveFilter: radius = 3\t139828 ground\t3378 non-ground\t(2.36%)\n",
      "(pdal translate filters.smrf Debug) progressiveFilter: radius = 4\t139521 ground\t3685 non-ground\t(2.57%)\n",
      "(pdal translate filters.smrf Debug) progressiveFilter: radius = 5\t139126 ground\t4080 non-ground\t(2.85%)\n",
      "(pdal translate filters.smrf Debug) progressiveFilter: radius = 6\t138948 ground\t4258 non-ground\t(2.97%)\n",
      "(pdal translate filters.smrf Debug) progressiveFilter: radius = 7\t138734 ground\t4472 non-ground\t(3.12%)\n",
      "(pdal translate filters.smrf Debug) progressiveFilter: radius = 8\t138522 ground\t4684 non-ground\t(3.27%)\n",
      "(pdal translate filters.smrf Debug) progressiveFilter: radius = 9\t138376 ground\t4830 non-ground\t(3.37%)\n",
      "(pdal translate filters.smrf Debug) progressiveFilter: radius = 10\t138276 ground\t4930 non-ground\t(3.44%)\n",
      "(pdal translate filters.smrf Debug) progressiveFilter: radius = 11\t138169 ground\t5037 non-ground\t(3.52%)\n",
      "(pdal translate filters.smrf Debug) progressiveFilter: radius = 12\t137956 ground\t5250 non-ground\t(3.67%)\n",
      "(pdal translate filters.smrf Debug) progressiveFilter: radius = 13\t137932 ground\t5274 non-ground\t(3.68%)\n",
      "(pdal translate filters.smrf Debug) progressiveFilter: radius = 14\t137725 ground\t5481 non-ground\t(3.83%)\n",
      "(pdal translate filters.smrf Debug) progressiveFilter: radius = 15\t137710 ground\t5496 non-ground\t(3.84%)\n",
      "(pdal translate filters.smrf Debug) progressiveFilter: radius = 16\t137662 ground\t5544 non-ground\t(3.87%)\n",
      "(pdal translate filters.smrf Debug) progressiveFilter: radius = 17\t137628 ground\t5578 non-ground\t(3.90%)\n",
      "(pdal translate filters.smrf Debug) progressiveFilter: radius = 18\t137628 ground\t5578 non-ground\t(3.90%)\n",
      "(pdal translate writers.las Debug) Wrote 1217734 points to the LAS file\n",
      "(pdal translate Debug) GDAL debug: GDAL: In GDALDestroy - unloading GDAL shared library.\n"
     ]
    }
   ],
   "source": [
    "!pdal translate --json example-classify.json arch.las arch-classified.laz --verbose 5"
   ]
  }
 ],
 "metadata": {
  "kernelspec": {
   "display_name": "Python 3",
   "language": "python",
   "name": "python3"
  },
  "language_info": {
   "codemirror_mode": {
    "name": "ipython",
    "version": 3
   },
   "file_extension": ".py",
   "mimetype": "text/x-python",
   "name": "python",
   "nbconvert_exporter": "python",
   "pygments_lexer": "ipython3",
   "version": "3.6.5"
  }
 },
 "nbformat": 4,
 "nbformat_minor": 2
}
