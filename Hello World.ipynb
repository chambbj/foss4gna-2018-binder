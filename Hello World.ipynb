{
 "cells": [
  {
   "cell_type": "code",
   "execution_count": 2,
   "metadata": {},
   "outputs": [
    {
     "data": {
      "text/plain": [
       "'2.0.0'"
      ]
     },
     "execution_count": 2,
     "metadata": {},
     "output_type": "execute_result"
    }
   ],
   "source": [
    "import pdal\n",
    "pdal.__version__"
   ]
  },
  {
   "cell_type": "code",
   "execution_count": 9,
   "metadata": {},
   "outputs": [
    {
     "data": {
      "text/plain": [
       "True"
      ]
     },
     "execution_count": 9,
     "metadata": {},
     "output_type": "execute_result"
    }
   ],
   "source": [
    "json=u'''{\n",
    "  \"pipeline\":[\n",
    "    {\n",
    "      \"type\": \"readers.greyhound\",\n",
    "      \"url\": \"data.greyhound.io/resource/iowa-z\",\n",
    "      \"filter\": {\"$and\": [\n",
    "        {\"Path\": \"02004736.laz\"},\n",
    "        {\"Classification\": {\"$ne\": 7}}\n",
    "      ]}\n",
    "    }\n",
    "  ]\n",
    "}'''\n",
    "p = pdal.Pipeline(json)\n",
    "p.validate()"
   ]
  },
  {
   "cell_type": "code",
   "execution_count": 10,
   "metadata": {},
   "outputs": [
    {
     "data": {
      "text/plain": [
       "2096"
      ]
     },
     "execution_count": 10,
     "metadata": {},
     "output_type": "execute_result"
    }
   ],
   "source": [
    "count = p.execute()\n",
    "count"
   ]
  },
  {
   "cell_type": "code",
   "execution_count": 11,
   "metadata": {},
   "outputs": [
    {
     "data": {
      "text/plain": [
       "array([(-10757997.01, 5271928.76, 340.08,  54, 1, 1, 1, 0, 2, 5., 0, 138, 238432.83961264, 0,    0),\n",
       "       (-10757958.21, 5271884.66, 339.91, 123, 1, 1, 0, 0, 2, 4., 0, 138, 238432.26846739, 0,    1),\n",
       "       (-10757962.99, 5271968.05, 341.85, 106, 1, 1, 1, 0, 2, 3., 0, 138, 238433.28383905, 0,    2),\n",
       "       ...,\n",
       "       (-10757963.28, 5271960.19, 341.68, 142, 1, 1, 0, 0, 2, 3., 0, 138, 238433.18508904, 0, 2093),\n",
       "       (-10757955.83, 5271956.23, 342.03, 149, 1, 1, 1, 0, 2, 3., 0, 138, 238433.11712443, 0, 2094),\n",
       "       (-10757969.39, 5271967.28, 341.71, 117, 1, 1, 1, 0, 2, 4., 0, 138, 238433.28388082, 0, 2095)],\n",
       "      dtype=[('X', '<f8'), ('Y', '<f8'), ('Z', '<f8'), ('Intensity', '<u2'), ('ReturnNumber', 'u1'), ('NumberOfReturns', 'u1'), ('ScanDirectionFlag', 'u1'), ('EdgeOfFlightLine', 'u1'), ('Classification', 'u1'), ('ScanAngleRank', '<f4'), ('UserData', 'u1'), ('PointSourceId', '<u2'), ('GpsTime', '<f8'), ('OriginId', '<u4'), ('PointId', '<u4')])"
      ]
     },
     "execution_count": 11,
     "metadata": {},
     "output_type": "execute_result"
    }
   ],
   "source": [
    "data = p.arrays[0]\n",
    "data"
   ]
  }
 ],
 "metadata": {
  "kernelspec": {
   "display_name": "Python 3",
   "language": "python",
   "name": "python3"
  },
  "language_info": {
   "codemirror_mode": {
    "name": "ipython",
    "version": 3
   },
   "file_extension": ".py",
   "mimetype": "text/x-python",
   "name": "python",
   "nbconvert_exporter": "python",
   "pygments_lexer": "ipython3",
   "version": "3.6.5"
  }
 },
 "nbformat": 4,
 "nbformat_minor": 2
}
